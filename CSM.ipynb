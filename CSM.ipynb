{
 "cells": [
  {
   "cell_type": "markdown",
   "id": "5bbaafcb",
   "metadata": {},
   "source": [
    "# Кузнецов Даниил 3821Б1ПР1"
   ]
  },
  {
   "cell_type": "markdown",
   "id": "2713971e",
   "metadata": {},
   "source": [
    "## 38. Выплаты по кредиту. Решение трансцендентного уравнения"
   ]
  },
  {
   "cell_type": "markdown",
   "id": "c31099b1",
   "metadata": {},
   "source": [
    "Предположим, что кто-то желает взять кредит на сумму . Он выбирает среди следующих возможностей:\n",
    "\n",
    "1) взять кредит на  лет с ежемесячными выплатами в ;\n",
    "\n",
    "2) взять кредит на  лет с ежемесячными выплатами в ;\n",
    "\n",
    "3) взять кредит на  лет с ежемесячными выплатами в .\n",
    "\n",
    "Какой кредит выгоднее брать?\n",
    "\n",
    "Можно просто вычислить переплату, а можно еще учесть процентные ставки.\n",
    "\n",
    "Сами процентные ставки здесь не указаны, но можно их найти из основного финансового уравнения:\n",
    "${\\rm PV}\\, (1+i)^n + {\\rm PMT}\\, (1+i)^{n-1} + {\\rm PMT}\\, (1+i)^{n-2} + \\dots + {\\rm PMT} + {\\rm FV} = 0, \\tag{1} $\n",
    "\n",
    "связывающего следующие величины:\n",
    "\n",
    " PV - величина кредита (present value);\n",
    " FV - баланс после  платежей (future value);\n",
    " PMT - величина периодического платежа со знаком минус (payment);\n",
    " n - количество платежей;\n",
    " i - процентная ставка (interest rate).\n",
    "Например, для случая 1):\n",
    "PV = 100000;\n",
    "FV = 0;\n",
    "PMT = -1500;\n",
    "n = 10 * 12 = 120\n",
    "\n",
    "Используя формулу для суммы элементов геометрической прогрессии, уравнение (1) запишем в следующем виде:\n",
    "\n",
    "$ {\\rm PV}\\, (1+i)^n + {\\rm PMT}\\, \\frac{(1+i)^n - 1}{i} + {\\rm FV} = 0, \\tag{2} $\n",
    "\n",
    "Относительно  это уравнение в общем случае аналитические решено быть не может, поэтому надо использовать численные методы.\n",
    "\n",
    "1) Написать функцию, решающее уравнение (2). Ваша функция должна вызывать scipy.optimize.brentq. Можете воспользоваться другим методом. Обоснуйте свой выбор.\n",
    "\n",
    "2) Рассчитать годовые процентные ставки для примеров 1)-3). Годовая процентная ставка равна i_year = m * i, где m - количество платежей в год (в нашем случае m = 12).\n",
    "\n",
    "3) Сравнить процентные ставки. Какой кредитный план выбрали бы вы?"
   ]
  },
  {
   "cell_type": "markdown",
   "id": "0a497369",
   "metadata": {},
   "source": [
    "Импортируем библиотеки:"
   ]
  },
  {
   "cell_type": "code",
   "execution_count": 77,
   "id": "45bee70e",
   "metadata": {
    "scrolled": true
   },
   "outputs": [],
   "source": [
    "import numpy as np\n",
    "import scipy as sp\n",
    "from scipy.optimize import brentq"
   ]
  },
  {
   "cell_type": "markdown",
   "id": "b3a2a365",
   "metadata": {},
   "source": [
    "Добавляем величину кредита pv и баланс после n платежей(future value) и количество платежей в год(m)"
   ]
  },
  {
   "cell_type": "code",
   "execution_count": 78,
   "id": "4eb61049",
   "metadata": {},
   "outputs": [],
   "source": [
    "pv = 100000\n",
    "fv = 0\n",
    "m = 12"
   ]
  },
  {
   "cell_type": "markdown",
   "id": "c79cee8f",
   "metadata": {},
   "source": [
    "Добавляем переменные количества месяцев(выплат) и величины периодических платежей со знаком минус"
   ]
  },
  {
   "cell_type": "code",
   "execution_count": 79,
   "id": "d008d555",
   "metadata": {},
   "outputs": [],
   "source": [
    "n_fst = 10*m\n",
    "n_snd = 15*m\n",
    "n_trd = 20*m\n",
    "pmt1 = -1500\n",
    "pmt2 = -1250\n",
    "pmt3 = -1160\n"
   ]
  },
  {
   "cell_type": "markdown",
   "id": "0b8a8bb4",
   "metadata": {},
   "source": [
    "Функция решения этого уравнения через метод Брента\n",
    "$$ {\\rm PV}\\, (1+i)^n + {\\rm PMT}\\, \\frac{(1+i)^n - 1}{i} + {\\rm FV} = 0, \\tag{2} $$\n"
   ]
  },
  {
   "cell_type": "code",
   "execution_count": 99,
   "id": "2982a6b1",
   "metadata": {},
   "outputs": [],
   "source": [
    "def month_percent (pv, fv, n, pmt):\n",
    "    def finance(i):\n",
    "        return pv*(1+i)**n + pmt*((((1+i)**n)-1)/i) + fv\n",
    "    return brentq(finance, 0.01, 1.0)\n"
   ]
  },
  {
   "cell_type": "markdown",
   "id": "e7fba548",
   "metadata": {},
   "source": [
    "Далее находим месячные процентные ставки для каждого вариант кредита"
   ]
  },
  {
   "cell_type": "code",
   "execution_count": 100,
   "id": "1284f498",
   "metadata": {},
   "outputs": [
    {
     "name": "stdout",
     "output_type": "stream",
     "text": [
      "0.010930603939868333\n"
     ]
    }
   ],
   "source": [
    "i1 = month_percent(pv, fv, n_fst, pmt1)\n",
    "print(i1)"
   ]
  },
  {
   "cell_type": "code",
   "execution_count": 101,
   "id": "0d643826",
   "metadata": {},
   "outputs": [
    {
     "name": "stdout",
     "output_type": "stream",
     "text": [
      "0.01063980717924384\n"
     ]
    }
   ],
   "source": [
    "i2 = month_percent(pv, fv, n_snd, pmt2)\n",
    "print(i2)"
   ]
  },
  {
   "cell_type": "code",
   "execution_count": 102,
   "id": "8b38377c",
   "metadata": {},
   "outputs": [
    {
     "name": "stdout",
     "output_type": "stream",
     "text": [
      "0.010697698792848072\n"
     ]
    }
   ],
   "source": [
    "i3 = month_percent(pv, fv, n_trd, pmt3)\n",
    "print(i3)"
   ]
  },
  {
   "cell_type": "markdown",
   "id": "99067ee7",
   "metadata": {},
   "source": [
    "Рассчитываем годовые процентные ставки:"
   ]
  },
  {
   "cell_type": "code",
   "execution_count": 103,
   "id": "1f695070",
   "metadata": {},
   "outputs": [],
   "source": [
    "i_year1 = i1 * m\n",
    "i_year2 = i2 * m \n",
    "i_year3 = i3 * m "
   ]
  },
  {
   "cell_type": "code",
   "execution_count": 104,
   "id": "6c105129",
   "metadata": {},
   "outputs": [
    {
     "name": "stdout",
     "output_type": "stream",
     "text": [
      "Годовые ставки: \n",
      "Первый вариант:  13.12 %\n",
      "Второй вариант:  12.77 %\n",
      "Третий вариант:  12.84 %\n"
     ]
    }
   ],
   "source": [
    "print(\"Годовые ставки: \")\n",
    "print(\"Первый вариант: \", round(i_year1 * 100, 2), \"%\")\n",
    "print(\"Второй вариант: \", round(i_year2 * 100, 2), \"%\")\n",
    "print(\"Третий вариант: \", round(i_year3 * 100, 2), \"%\")"
   ]
  },
  {
   "cell_type": "markdown",
   "id": "f65011ed",
   "metadata": {},
   "source": [
    "Переплаты составят:"
   ]
  },
  {
   "cell_type": "code",
   "execution_count": 105,
   "id": "bbfc21d7",
   "metadata": {},
   "outputs": [
    {
     "name": "stdout",
     "output_type": "stream",
     "text": [
      "Первый вариант:  80000\n",
      "Второй вариант:  125000\n",
      "Третий вариант:  178400\n"
     ]
    }
   ],
   "source": [
    "#Первый вариант\n",
    "over1 = -pmt1 * n_fst - pv\n",
    "print(\"Первый вариант: \", over1)\n",
    "#Второй вариант\n",
    "over2 = -pmt2 * n_snd - pv\n",
    "print(\"Второй вариант: \", over2)\n",
    "#Третий вариант\n",
    "over3 = -pmt3 * n_trd - pv\n",
    "print(\"Третий вариант: \", over3)"
   ]
  },
  {
   "cell_type": "markdown",
   "id": "98e0f6c4",
   "metadata": {},
   "source": [
    "# Вывод"
   ]
  },
  {
   "cell_type": "markdown",
   "id": "1d78b932",
   "metadata": {},
   "source": [
    "Исходя из полученных годовых ставок можно сделать вывод, что наиболее выгодным кредитным планом будет второй, который обладает наименьшей процентной ставкой в 12.77%.\n",
    "Использовался метод Брента так как он обладает надежными и быстрыми свойствами сходимости.\n"
   ]
  },
  {
   "cell_type": "code",
   "execution_count": null,
   "id": "bc4a8671",
   "metadata": {},
   "outputs": [],
   "source": []
  }
 ],
 "metadata": {
  "kernelspec": {
   "display_name": "Python 3 (ipykernel)",
   "language": "python",
   "name": "python3"
  },
  "language_info": {
   "codemirror_mode": {
    "name": "ipython",
    "version": 3
   },
   "file_extension": ".py",
   "mimetype": "text/x-python",
   "name": "python",
   "nbconvert_exporter": "python",
   "pygments_lexer": "ipython3",
   "version": "3.9.7"
  }
 },
 "nbformat": 4,
 "nbformat_minor": 5
}
